{
 "metadata": {
  "name": "",
  "signature": "sha256:9db735f64759356ef333bf5e085838b572bb709a1df409272974e737c36b9f4b"
 },
 "nbformat": 3,
 "nbformat_minor": 0,
 "worksheets": [
  {
   "cells": [
    {
     "cell_type": "code",
     "collapsed": false,
     "input": [
      "import pandas as pd"
     ],
     "language": "python",
     "metadata": {},
     "outputs": []
    },
    {
     "cell_type": "code",
     "collapsed": false,
     "input": [
      "def oauth_login():\n",
      "    \"\"\"Twitter authorization \"\"\"\n",
      "    #tw is a dictionary, the only variable in mykeys.py\n",
      "    auth = twitter.oauth.OAuth(tw['OAUTH_TOKEN'], tw['OAUTH_TOKEN_SECRET'],\n",
      "             tw['CONSUMER_KEY'], tw['CONSUMER_SECRET'])\n",
      "    twitter_api = twitter.Twitter(auth=auth)\n",
      "    return twitter_api"
     ],
     "language": "python",
     "metadata": {},
     "outputs": []
    }
   ],
   "metadata": {}
  }
 ]
}